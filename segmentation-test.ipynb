{
 "cells": [
  {
   "cell_type": "code",
   "execution_count": null,
   "metadata": {},
   "outputs": [],
   "source": [
    "# 如果没有 stanfordcorenlp 请取消注释下行来安装\n",
    "# !pip install stanfordcorenlp"
   ]
  },
  {
   "cell_type": "code",
   "execution_count": 3,
   "metadata": {},
   "outputs": [],
   "source": [
    "from stanfordcorenlp import StanfordCoreNLP\n",
    "import jieba"
   ]
  },
  {
   "cell_type": "code",
   "execution_count": 4,
   "metadata": {},
   "outputs": [
    {
     "data": {
      "text/plain": [
       "'jieba version: 0.39'"
      ]
     },
     "execution_count": 4,
     "metadata": {},
     "output_type": "execute_result"
    }
   ],
   "source": [
    "f'jieba version: {jieba.__version__}'"
   ]
  },
  {
   "cell_type": "markdown",
   "metadata": {},
   "source": [
    "## 关于 Stanford NLP\n",
    "\n",
    "有两种方式使用 Stanford NLP：\n",
    "- 使用本地模型文件\n",
    "- 使用本地开启的服务：`java -mx4g -cp \"*\" edu.stanford.nlp.pipeline.StanfordCoreNLPServer -port 9000 -timeout 15000`"
   ]
  },
  {
   "cell_type": "markdown",
   "metadata": {},
   "source": [
    "## 分词"
   ]
  },
  {
   "cell_type": "code",
   "execution_count": 10,
   "metadata": {},
   "outputs": [],
   "source": [
    "STANFORD_PATH = \"D:\\\\stanford-corenlp-full-2018-10-05\\\\\"\n",
    "# STANFORD_PATH = \"F:\\\\stanford-corenlp-full-2018-02-27\\\\\"\n",
    "nlp = StanfordCoreNLP(STANFORD_PATH, lang='zh')"
   ]
  },
  {
   "cell_type": "code",
   "execution_count": 37,
   "metadata": {},
   "outputs": [],
   "source": [
    "def segmentation(sentence, delimiter=\"/\"):\n",
    "    stanford = nlp.word_tokenize(sentence)\n",
    "    jieba_ = jieba.cut(sentence)\n",
    "    print(f\"Stanford NLP 分词结果：{delimiter.join(stanford)}\\njieba 分词结果：{delimiter.join(jieba_)}\")"
   ]
  },
  {
   "cell_type": "code",
   "execution_count": 38,
   "metadata": {},
   "outputs": [
    {
     "name": "stdout",
     "output_type": "stream",
     "text": [
      "Stanford NLP 分词结果：【/学术/造假/爆发/】/全球/40万/科学家/在/假期/刊发/论文/，/包括/一/位/诺奖/得主/！\n",
      "jieba 分词结果：【/学术/造假/爆发/】/全球/40/万/科学家/在/假期/刊发/论文/，/包括/一位/诺/奖得主/！\n"
     ]
    }
   ],
   "source": [
    "segmentation('【学术造假爆发】全球40万科学家在假期刊发论文，包括一位诺奖得主！')"
   ]
  },
  {
   "cell_type": "code",
   "execution_count": 39,
   "metadata": {},
   "outputs": [
    {
     "name": "stdout",
     "output_type": "stream",
     "text": [
      "Stanford NLP 分词结果：只有/这时候/人才/是/最/齐/的\n",
      "jieba 分词结果：只有/这时候/人才/是/最齐/的\n"
     ]
    }
   ],
   "source": [
    "segmentation('只有这时候人才是最齐的')"
   ]
  },
  {
   "cell_type": "code",
   "execution_count": 40,
   "metadata": {},
   "outputs": [
    {
     "name": "stdout",
     "output_type": "stream",
     "text": [
      "Stanford NLP 分词结果：光绪/辞世/时尚/没有/陵墓/，/一直/到/1913/年/（/民国/二年/）/才/葬入/中国/最后/一/座/帝陵/——/河北/易县/清/西陵/中/的/崇陵/。\n",
      "jieba 分词结果：光绪/辞世/时尚/没有/陵墓/，/一直/到/1913/年/（/民国/二年/）/才葬入/中国/最后/一座/帝陵/—/—/河北/易县/清西陵/中/的/崇陵/。\n"
     ]
    }
   ],
   "source": [
    "segmentation('光绪辞世时尚没有陵墓，一直到1913年（民国二年）才葬入中国最后一座帝陵——河北易县清西陵中的崇陵。')"
   ]
  },
  {
   "cell_type": "code",
   "execution_count": 41,
   "metadata": {},
   "outputs": [
    {
     "name": "stdout",
     "output_type": "stream",
     "text": [
      "Stanford NLP 分词结果：所以/福建/人生/的/反义词/是/煮/。\n",
      "jieba 分词结果：所以/福建/人生/的/反义词/是/煮/。\n"
     ]
    }
   ],
   "source": [
    "segmentation('所以福建人生的反义词是煮。')"
   ]
  },
  {
   "cell_type": "code",
   "execution_count": 42,
   "metadata": {},
   "outputs": [
    {
     "name": "stdout",
     "output_type": "stream",
     "text": [
      "Stanford NLP 分词结果：小/米/8/旗舰/系列/发货/超/600万/台/，/米/家/自动/洗/手机/套装/众/筹/开启\n",
      "jieba 分词结果：小米/8/旗舰/系列/发货/超/600/万台/，/米家/自动/洗/手机/套装/众筹/开启\n"
     ]
    }
   ],
   "source": [
    "segmentation('小米8旗舰系列发货超600万台，米家自动洗手机套装众筹开启')"
   ]
  },
  {
   "cell_type": "code",
   "execution_count": 43,
   "metadata": {},
   "outputs": [
    {
     "name": "stdout",
     "output_type": "stream",
     "text": [
      "Stanford NLP 分词结果：据说/她们/平时/的/歌声/音质/不错/，/但如/果是/丧事/来临/，/她们/的/嗓音/就/会/瞬间/尖锐/到/可以/震/碎玻璃/。\n",
      "jieba 分词结果：据说/她们/平时/的/歌声/音质/不错/，/但/如果/是/丧事/来临/，/她们/的/嗓音/就/会/瞬间/尖锐/到/可以/震/碎玻璃/。\n"
     ]
    }
   ],
   "source": [
    "segmentation('据说她们平时的歌声音质不错，但如果是丧事来临，她们的嗓音就会瞬间尖锐到可以震碎玻璃。')"
   ]
  },
  {
   "cell_type": "code",
   "execution_count": 44,
   "metadata": {},
   "outputs": [
    {
     "name": "stdout",
     "output_type": "stream",
     "text": [
      "Stanford NLP 分词结果：烧/脑/残局/，/火热/上线\n",
      "jieba 分词结果：烧脑/残局/，/火热/上线\n"
     ]
    }
   ],
   "source": [
    "segmentation('烧脑残局，火热上线')"
   ]
  },
  {
   "cell_type": "code",
   "execution_count": 45,
   "metadata": {},
   "outputs": [
    {
     "name": "stdout",
     "output_type": "stream",
     "text": [
      "Stanford NLP 分词结果：丧幼子/，/入/佛门/。/笔下/江湖/，/快意/恩仇/。/经历/过/非常/人/之痛/，/书写/着/世人/心/中/江湖/。\n",
      "jieba 分词结果：丧/幼子/，/入/佛门/。/笔下/江湖/，/快意/恩仇/。/经历/过/非常/人之痛/，/书写/着/世人/心中/江湖/。\n"
     ]
    }
   ],
   "source": [
    "segmentation('丧幼子，入佛门。笔下江湖，快意恩仇。经历过非常人之痛，书写着世人心中江湖。')"
   ]
  },
  {
   "cell_type": "code",
   "execution_count": 46,
   "metadata": {},
   "outputs": [
    {
     "name": "stdout",
     "output_type": "stream",
     "text": [
      "Stanford NLP 分词结果：要求/家具/改成/龙头/，/结果/收到/成/龙头\n",
      "jieba 分词结果：要求/家具/改成/龙头/，/结果/收到/成/龙头\n"
     ]
    }
   ],
   "source": [
    "segmentation('要求家具改成龙头，结果收到成龙头')"
   ]
  },
  {
   "cell_type": "code",
   "execution_count": 47,
   "metadata": {},
   "outputs": [
    {
     "name": "stdout",
     "output_type": "stream",
     "text": [
      "Stanford NLP 分词结果：我/也/想/过过儿/过过/的/生活\n",
      "jieba 分词结果：我/也/想/过/过儿/过过/的/生活\n"
     ]
    }
   ],
   "source": [
    "segmentation('我也想过过儿过过的生活')"
   ]
  },
  {
   "cell_type": "code",
   "execution_count": 48,
   "metadata": {},
   "outputs": [
    {
     "name": "stdout",
     "output_type": "stream",
     "text": [
      "Stanford NLP 分词结果：下/周日/你/有空/吗/？\n",
      "jieba 分词结果：下/周日/你/有空/吗/？\n"
     ]
    }
   ],
   "source": [
    "segmentation('下周日你有空吗？')"
   ]
  },
  {
   "cell_type": "code",
   "execution_count": 49,
   "metadata": {},
   "outputs": [
    {
     "name": "stdout",
     "output_type": "stream",
     "text": [
      "Stanford NLP 分词结果：【/泪目/！/解放军/战士/手牵手/趟/过/中越/边境/雷场/，/将/安全/的/土地/移交/百姓/】/11月/16日/，/中/越/边境/云南/段/已/扫雷/场/移交/仪式/在/云南省/麻栗坡县/猛硐/乡老/山西/侧/雷场/举行/。/移交/现场/，/扫雷/官兵/当着/老百姓/的/面/，/手/牵/手/趟/过/雷场/，/用/这/种/特殊/的/方式/向/老百姓/说明/脚下/的/每/一/寸/土地/都/是/安全/的/。/致敬/！\n",
      "jieba 分词结果：【/泪目/！/解放军/战士/手牵手/趟/过/中越/边境/雷场/，/将/安全/的/土地/移交/百姓/】/11/月/16/日/，/中/越/边境/云南/段/已/扫雷/场/移交/仪式/在/云南省/麻栗坡县/猛/硐/乡/老山/西侧/雷场/举行/。/移交/现场/，/扫雷/官兵/当着/老百姓/的/面/，/手牵手/趟/过/雷场/，/用/这种/特殊/的/方式/向/老百姓/说明/脚下/的/每一寸/土地/都/是/安全/的/。/致敬/！\n"
     ]
    }
   ],
   "source": [
    "segmentation('【泪目！解放军战士手牵手趟过中越边境雷场，将安全的土地移交百姓】11月16日，中越边境云南段已扫雷场移交仪式在云南省麻栗坡县猛硐乡老山西侧雷场举行。移交现场，扫雷官兵当着老百姓的面，手牵手趟过雷场，用这种特殊的方式向老百姓说明脚下的每一寸土地都是安全的。致敬！')"
   ]
  },
  {
   "cell_type": "code",
   "execution_count": 50,
   "metadata": {},
   "outputs": [
    {
     "name": "stdout",
     "output_type": "stream",
     "text": [
      "Stanford NLP 分词结果：笔记本/身为/X86/平台/最/能/带货/的/品类/，/Intel/和/AMD/绝不/会/忽略/掉/，/所以/也/照例/推出/了/几/款/KabyLake-G/处理器/。\n",
      "jieba 分词结果：笔记本/身为/X86/平台/最/能带/货/的/品类/，/Intel/和/AMD/绝不会/忽略/掉/，/所以/也/照例/推出/了/几款/KabyLake/-/G/处理器/。\n"
     ]
    }
   ],
   "source": [
    "segmentation('笔记本身为X86平台最能带货的品类，Intel和AMD绝不会忽略掉，所以也照例推出了几款KabyLake-G处理器。')"
   ]
  },
  {
   "cell_type": "code",
   "execution_count": 51,
   "metadata": {},
   "outputs": [
    {
     "name": "stdout",
     "output_type": "stream",
     "text": [
      "Stanford NLP 分词结果：人/要是/行/，/干/一行行/一行/，/一行行/行行行/；/人/要是/不行/，/干/一/行/不/行/一行/，/一/行/不/行/行行/不行\n",
      "jieba 分词结果：人/要是/行/，/干/一行行/一行/，/一行行/行行行/；/人/要是/不行/，/干一行/不行/一行/，/一行/不行/行/行不行\n"
     ]
    }
   ],
   "source": [
    "segmentation('人要是行，干一行行一行，一行行行行行；人要是不行，干一行不行一行，一行不行行行不行')"
   ]
  },
  {
   "cell_type": "code",
   "execution_count": 52,
   "metadata": {},
   "outputs": [
    {
     "name": "stdout",
     "output_type": "stream",
     "text": [
      "Stanford NLP 分词结果：另外/米/家/台灯/Pro/采用/了/DC/调光/，/无可/视频/闪/，/「/护眼/神教/」/的/教徒们/应该/心里有数/。\n",
      "jieba 分词结果：另外/米家/台灯/ /Pro/ /采用/了/ /DC/ /调光/，/无可/视频/闪/，/「/护/眼神/教/」/的/教徒/们/应该/心里有数/。\n"
     ]
    }
   ],
   "source": [
    "segmentation(\"另外米家台灯 Pro 采用了 DC 调光，无可视频闪，「护眼神教」的教徒们应该心里有数。\")"
   ]
  },
  {
   "cell_type": "code",
   "execution_count": 53,
   "metadata": {},
   "outputs": [
    {
     "name": "stdout",
     "output_type": "stream",
     "text": [
      "Stanford NLP 分词结果：便宜/实惠/，/方便/，/快速/，/日常/生活/用的/东西/在/京东/买/比较/好/，/京东/方便/了/生活/。/看/了/下/实物/，/质量/和/超市/一样/，/京东/的/方便/又/值/，/赞/。\n",
      "jieba 分词结果：便宜/实惠/，/方便/，/快速/，/日常生活/用/的/东西/在/京东/买/比较/好/，/京东方/便/了/生活/。/看/了/下/实物/，/质量/和/超市/一样/，/京东/的/方便/又值/，/赞/。\n"
     ]
    }
   ],
   "source": [
    "segmentation(\"便宜实惠，方便，快速，日常生活用的东西在京东买比较好，京东方便了生活。看了下实物，质量和超市一样，京东的方便又值，赞。\")"
   ]
  },
  {
   "cell_type": "code",
   "execution_count": 54,
   "metadata": {},
   "outputs": [
    {
     "name": "stdout",
     "output_type": "stream",
     "text": [
      "Stanford NLP 分词结果：近日/本省/部分/地区/即将/出现/连降/暴雪/，/气温/将/持续/下降/，/有可能/出现/百/年/未/遇/的/低温/寒潮/和/雪灾/。\n",
      "jieba 分词结果：近日/本省/部分/地区/即将/出现/连降/暴雪/，/气温/将/持续/下降/，/有/可能/出现/百年/未遇/的/低温/寒潮/和/雪灾/。\n"
     ]
    }
   ],
   "source": [
    "segmentation(\"近日本省部分地区即将出现连降暴雪，气温将持续下降，有可能出现百年未遇的低温寒潮和雪灾。\")"
   ]
  },
  {
   "cell_type": "code",
   "execution_count": null,
   "metadata": {},
   "outputs": [],
   "source": []
  }
 ],
 "metadata": {
  "kernelspec": {
   "display_name": "Python 3",
   "language": "python",
   "name": "python3"
  },
  "language_info": {
   "codemirror_mode": {
    "name": "ipython",
    "version": 3
   },
   "file_extension": ".py",
   "mimetype": "text/x-python",
   "name": "python",
   "nbconvert_exporter": "python",
   "pygments_lexer": "ipython3",
   "version": "3.6.5"
  }
 },
 "nbformat": 4,
 "nbformat_minor": 2
}
